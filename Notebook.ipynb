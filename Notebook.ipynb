{
 "cells": [
  {
   "cell_type": "code",
   "execution_count": null,
   "outputs": [],
   "source": [
    "import os\n",
    "\n",
    "os.mkdir('plots')"
   ],
   "metadata": {
    "collapsed": false
   }
  },
  {
   "cell_type": "code",
   "execution_count": null,
   "metadata": {
    "collapsed": true
   },
   "outputs": [],
   "source": [
    "from draw_plots import draw_plots\n",
    "import pandas as pd\n",
    "\n",
    "# Read the JSON file as a Pandas DataFrame\n",
    "df = pd.read_json(\"deviation.json\")\n",
    "\n",
    "# Draw plots for comparing different columns\n",
    "plot_paths = draw_plots(\"deviation.json\")\n"
   ]
  },
  {
   "cell_type": "code",
   "execution_count": 19,
   "outputs": [
    {
     "name": "stdout",
     "output_type": "stream",
     "text": [
      "Mean deviation: 12.89532038162962\n",
      "Max deviation: 179.1654830868\n",
      "Min deviation: 0.0074561959\n"
     ]
    }
   ],
   "source": [
    "mean_deviation = df[\"mean\"].mean()\n",
    "max_deviation = df[\"max\"].max()\n",
    "min_deviation = df[\"min\"].min()\n",
    "\n",
    "print(f\"Mean deviation: {mean_deviation}\")\n",
    "print(f\"Max deviation: {max_deviation}\")\n",
    "print(f\"Min deviation: {min_deviation}\")"
   ],
   "metadata": {
    "collapsed": false
   }
  },
  {
   "cell_type": "code",
   "execution_count": null,
   "outputs": [],
   "source": [],
   "metadata": {
    "collapsed": false
   }
  }
 ],
 "metadata": {
  "kernelspec": {
   "display_name": "Python 3",
   "language": "python",
   "name": "python3"
  },
  "language_info": {
   "codemirror_mode": {
    "name": "ipython",
    "version": 2
   },
   "file_extension": ".py",
   "mimetype": "text/x-python",
   "name": "python",
   "nbconvert_exporter": "python",
   "pygments_lexer": "ipython2",
   "version": "2.7.6"
  }
 },
 "nbformat": 4,
 "nbformat_minor": 0
}
